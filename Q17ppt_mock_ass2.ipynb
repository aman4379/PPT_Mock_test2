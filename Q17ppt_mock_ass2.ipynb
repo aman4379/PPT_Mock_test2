{
 "cells": [
  {
   "cell_type": "markdown",
   "id": "b14e59f8-ba49-4849-bbd8-762dd75e9d05",
   "metadata": {},
   "source": [
    "17. Write a function that takes a list of numbers as input and returns a new list containing only the even numbers from the input list. Use list comprehension to solve this problem.\n",
    "\n",
    "Example:\n",
    "Input: [1, 2, 3, 4, 5, 6, 7, 8, 9, 10]                                            \n",
    "Output: [2, 4, 6, 8, 10]"
   ]
  },
  {
   "cell_type": "code",
   "execution_count": 1,
   "id": "20f64b19-ec52-4dba-81b3-b8f88d29a41e",
   "metadata": {},
   "outputs": [
    {
     "name": "stdin",
     "output_type": "stream",
     "text": [
      "Enter numbers:  5\n",
      " 5\n",
      " 4\n",
      " 3\n",
      " 2\n",
      " 1\n"
     ]
    },
    {
     "name": "stdout",
     "output_type": "stream",
     "text": [
      "[4, 2]\n"
     ]
    }
   ],
   "source": [
    "list=[]\n",
    "n = int(input(\"Enter numbers: \"))\n",
    "for i in range(0,n):\n",
    "    l=int(input())\n",
    "    list.append(l)\n",
    "new_list = []\n",
    "for i in list:\n",
    "    if(i%2==0):\n",
    "        new_list.append(i)\n",
    "print(new_list)"
   ]
  },
  {
   "cell_type": "code",
   "execution_count": null,
   "id": "4d578f8a-2d68-45a6-9d21-8b72586f8b29",
   "metadata": {},
   "outputs": [],
   "source": []
  }
 ],
 "metadata": {
  "kernelspec": {
   "display_name": "Python 3 (ipykernel)",
   "language": "python",
   "name": "python3"
  },
  "language_info": {
   "codemirror_mode": {
    "name": "ipython",
    "version": 3
   },
   "file_extension": ".py",
   "mimetype": "text/x-python",
   "name": "python",
   "nbconvert_exporter": "python",
   "pygments_lexer": "ipython3",
   "version": "3.10.8"
  }
 },
 "nbformat": 4,
 "nbformat_minor": 5
}
