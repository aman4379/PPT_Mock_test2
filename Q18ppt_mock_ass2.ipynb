{
 "cells": [
  {
   "cell_type": "markdown",
   "id": "b14e59f8-ba49-4849-bbd8-762dd75e9d05",
   "metadata": {},
   "source": [
    "18. Implement a decorator function called ‘timer’ that measures the execution time of a function. The ‘timer’ decorator should print the time taken by the decorated function to execute. Use the ‘time’ module in Python to calculate the execution time.\n",
    "\n",
    "Example:\n",
    "\n",
    "import time\n",
    "\n",
    "@timer                                                                                                  \n",
    "def my_function():\n",
    "    # Function code goes here\n",
    "    time.sleep(2)\n",
    "\n",
    "my_function()\n",
    "\n",
    "Output:                                                                                                      \n",
    "\"Execution time: 2.00123 seconds\""
   ]
  },
  {
   "cell_type": "code",
   "execution_count": 2,
   "id": "20f64b19-ec52-4dba-81b3-b8f88d29a41e",
   "metadata": {},
   "outputs": [
    {
     "name": "stdout",
     "output_type": "stream",
     "text": [
      "1.430511474609375e-06\n",
      "35\n"
     ]
    }
   ],
   "source": [
    "def decorator_timer(some_function):\n",
    "    from time import time\n",
    "\n",
    "    def wrapper(*args, **kwargs):\n",
    "        t1 = time()\n",
    "        result = some_function(*args, **kwargs)\n",
    "        end = time()-t1\n",
    "        return result, end\n",
    "    return wrapper\n",
    "\n",
    "\n",
    "@decorator_timer\n",
    "def my_pow(a, b):\n",
    "    res = (a * b)+(a+b)\n",
    "    return res\n",
    "    # or just return a ** b, it doesn't really matter\n",
    "\n",
    "result, exec_time = my_pow(5 , 5)\n",
    "print(exec_time) # prints after 0.07347989082336426 seconds\n",
    "print(result) "
   ]
  },
  {
   "cell_type": "code",
   "execution_count": null,
   "id": "4d578f8a-2d68-45a6-9d21-8b72586f8b29",
   "metadata": {},
   "outputs": [],
   "source": []
  }
 ],
 "metadata": {
  "kernelspec": {
   "display_name": "Python 3 (ipykernel)",
   "language": "python",
   "name": "python3"
  },
  "language_info": {
   "codemirror_mode": {
    "name": "ipython",
    "version": 3
   },
   "file_extension": ".py",
   "mimetype": "text/x-python",
   "name": "python",
   "nbconvert_exporter": "python",
   "pygments_lexer": "ipython3",
   "version": "3.10.8"
  }
 },
 "nbformat": 4,
 "nbformat_minor": 5
}
