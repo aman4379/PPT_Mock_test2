{
 "cells": [
  {
   "cell_type": "markdown",
   "id": "b14e59f8-ba49-4849-bbd8-762dd75e9d05",
   "metadata": {},
   "source": [
    "19. Write a function called ‘calculate_mean’ that takes a list of numbers as input and returns the mean (average) of the numbers. The function should calculate the mean using the sum of the numbers divided by the total count.\n",
    "\n",
    "Example:\n",
    "\n",
    "def calculate_mean(numbers):                                                                                \n",
    "    total = sum(numbers)                                                                                    \n",
    "    count = len(numbers)                                                                                  \n",
    "    mean = total / count                                                                                     \n",
    "    return mean                                                                                       \n",
    "\n",
    "data = [10, 15, 20, 25, 30]                                                                   \n",
    "mean_value = calculate_mean(data)                                                                           \n",
    "print(\"Mean:\", mean_value)                                                                                \n",
    "                                                                                                                  \n",
    "Output:                                                                                                      \n",
    "Mean: 20.0"
   ]
  },
  {
   "cell_type": "code",
   "execution_count": 3,
   "id": "20f64b19-ec52-4dba-81b3-b8f88d29a41e",
   "metadata": {},
   "outputs": [
    {
     "name": "stdin",
     "output_type": "stream",
     "text": [
      " 6\n",
      " 23\n",
      " 43\n",
      " 76\n",
      " 54\n",
      " 23\n",
      " 98\n"
     ]
    },
    {
     "name": "stdout",
     "output_type": "stream",
     "text": [
      "Mean: 52.833333333333336\n"
     ]
    }
   ],
   "source": [
    "def calculate_mean(numbers):\n",
    "    total = sum(numbers)\n",
    "    count = len(numbers)\n",
    "    mean = total / count\n",
    "    return mean\n",
    "numbers=[]\n",
    "n = int(input())\n",
    "for i in range(0,n):\n",
    "    i=int(input())\n",
    "    numbers.append(i)\n",
    "ans = calculate_mean(numbers)\n",
    "print(\"Mean:\",ans)"
   ]
  },
  {
   "cell_type": "code",
   "execution_count": null,
   "id": "4d578f8a-2d68-45a6-9d21-8b72586f8b29",
   "metadata": {},
   "outputs": [],
   "source": []
  }
 ],
 "metadata": {
  "kernelspec": {
   "display_name": "Python 3 (ipykernel)",
   "language": "python",
   "name": "python3"
  },
  "language_info": {
   "codemirror_mode": {
    "name": "ipython",
    "version": 3
   },
   "file_extension": ".py",
   "mimetype": "text/x-python",
   "name": "python",
   "nbconvert_exporter": "python",
   "pygments_lexer": "ipython3",
   "version": "3.10.8"
  }
 },
 "nbformat": 4,
 "nbformat_minor": 5
}
